{
  "nbformat": 4,
  "nbformat_minor": 0,
  "metadata": {
    "colab": {
      "provenance": []
    },
    "kernelspec": {
      "name": "python3",
      "display_name": "Python 3"
    },
    "language_info": {
      "name": "python"
    }
  },
  "cells": [
    {
      "cell_type": "code",
      "execution_count": 5,
      "metadata": {
        "id": "qdlUhWhVvLfr"
      },
      "outputs": [],
      "source": [
        "import numpy as np"
      ]
    },
    {
      "cell_type": "code",
      "source": [
        "a = []\n",
        "size = int(input(\"enter total elemenets:\"))\n",
        "for i in range(size):\n",
        "    val= int(input(\"enter numer:\"))\n",
        "    a.append(val)\n",
        "b = np.array(a)\n",
        "b"
      ],
      "metadata": {
        "colab": {
          "base_uri": "https://localhost:8080/"
        },
        "id": "rOP9hhDCvZI1",
        "outputId": "c6d6a684-b59a-45bd-952d-7c889fca3cc1"
      },
      "execution_count": 6,
      "outputs": [
        {
          "name": "stdout",
          "output_type": "stream",
          "text": [
            "enter total elemenets:3\n",
            "enter numer:45\n",
            "enter numer:56\n",
            "enter numer:78\n"
          ]
        },
        {
          "output_type": "execute_result",
          "data": {
            "text/plain": [
              "array([45, 56, 78])"
            ]
          },
          "metadata": {},
          "execution_count": 6
        }
      ]
    },
    {
      "cell_type": "markdown",
      "source": [
        "pre-define function"
      ],
      "metadata": {
        "id": "AFkKGmaiwMYO"
      }
    },
    {
      "cell_type": "code",
      "source": [
        "#Matrix --> rows , columns\n",
        "#Matrix ---> n(r) = n(c) ---> symmmatric matrix,\n",
        "# n(r)!=n(c)---> Asymmatric matrix\n",
        "#diagnol positional elements = [(1,1),(2,2),(3,3),....(n,n)]"
      ],
      "metadata": {
        "id": "zk6w1zERwLoo"
      },
      "execution_count": null,
      "outputs": []
    },
    {
      "cell_type": "code",
      "source": [
        "#(1.)  zeros() ---> IT will create an array in which all the values eill be 0."
      ],
      "metadata": {
        "id": "tg1vr3bGyCuB"
      },
      "execution_count": null,
      "outputs": []
    },
    {
      "cell_type": "code",
      "source": [
        "a = np.zeros(3)\n",
        "a"
      ],
      "metadata": {
        "colab": {
          "base_uri": "https://localhost:8080/"
        },
        "id": "xxy1D1XayQ-R",
        "outputId": "d5bf2657-58eb-421a-f08b-a67dd11d67a3"
      },
      "execution_count": 7,
      "outputs": [
        {
          "output_type": "execute_result",
          "data": {
            "text/plain": [
              "array([0., 0., 0.])"
            ]
          },
          "metadata": {},
          "execution_count": 7
        }
      ]
    },
    {
      "cell_type": "code",
      "source": [
        "a = np.zeros((3,5))\n",
        "a"
      ],
      "metadata": {
        "colab": {
          "base_uri": "https://localhost:8080/"
        },
        "id": "UgFnId9FyUQx",
        "outputId": "05634cf7-008d-47a6-be01-e5d7f229a7b0"
      },
      "execution_count": 9,
      "outputs": [
        {
          "output_type": "execute_result",
          "data": {
            "text/plain": [
              "array([[0., 0., 0., 0., 0.],\n",
              "       [0., 0., 0., 0., 0.],\n",
              "       [0., 0., 0., 0., 0.]])"
            ]
          },
          "metadata": {},
          "execution_count": 9
        }
      ]
    },
    {
      "cell_type": "code",
      "source": [
        "#(2.) ones()  ---> It will create an array in which all the values will bw 1."
      ],
      "metadata": {
        "id": "mfH6R6UUyc2S"
      },
      "execution_count": null,
      "outputs": []
    },
    {
      "cell_type": "code",
      "source": [
        "b = np.ones(4)\n",
        "b"
      ],
      "metadata": {
        "colab": {
          "base_uri": "https://localhost:8080/"
        },
        "id": "FnFhUTivy-eV",
        "outputId": "bfe33b8f-49c8-440b-b575-8bb921a629d0"
      },
      "execution_count": 10,
      "outputs": [
        {
          "output_type": "execute_result",
          "data": {
            "text/plain": [
              "array([1., 1., 1., 1.])"
            ]
          },
          "metadata": {},
          "execution_count": 10
        }
      ]
    },
    {
      "cell_type": "code",
      "source": [
        "c = np.ones((3,5))\n",
        "c"
      ],
      "metadata": {
        "colab": {
          "base_uri": "https://localhost:8080/"
        },
        "id": "AdMja5d4zKCM",
        "outputId": "5dbb63b5-acb8-4905-a77f-c3b6fc802962"
      },
      "execution_count": 12,
      "outputs": [
        {
          "output_type": "execute_result",
          "data": {
            "text/plain": [
              "array([[1., 1., 1., 1., 1.],\n",
              "       [1., 1., 1., 1., 1.],\n",
              "       [1., 1., 1., 1., 1.]])"
            ]
          },
          "metadata": {},
          "execution_count": 12
        }
      ]
    },
    {
      "cell_type": "code",
      "source": [
        "#(3.) eye()  ----> It will create an array in which diagonal posiitin element wil be 1\n",
        "# and rest all will be 0."
      ],
      "metadata": {
        "id": "qcOUdqnVzadf"
      },
      "execution_count": null,
      "outputs": []
    },
    {
      "cell_type": "code",
      "source": [
        "d = np.eye(3,3)\n",
        "d"
      ],
      "metadata": {
        "colab": {
          "base_uri": "https://localhost:8080/"
        },
        "id": "mGCQJ0_tzy9F",
        "outputId": "4c464d1e-f310-4dd7-d872-512f474e0ed6"
      },
      "execution_count": 13,
      "outputs": [
        {
          "output_type": "execute_result",
          "data": {
            "text/plain": [
              "array([[1., 0., 0.],\n",
              "       [0., 1., 0.],\n",
              "       [0., 0., 1.]])"
            ]
          },
          "metadata": {},
          "execution_count": 13
        }
      ]
    },
    {
      "cell_type": "code",
      "source": [
        "e = np.eye(3,5)\n",
        "e"
      ],
      "metadata": {
        "colab": {
          "base_uri": "https://localhost:8080/"
        },
        "id": "LUXwUiVwz3qx",
        "outputId": "475b3e0a-ff71-497b-a329-9d0e87ee0708"
      },
      "execution_count": 14,
      "outputs": [
        {
          "output_type": "execute_result",
          "data": {
            "text/plain": [
              "array([[1., 0., 0., 0., 0.],\n",
              "       [0., 1., 0., 0., 0.],\n",
              "       [0., 0., 1., 0., 0.]])"
            ]
          },
          "metadata": {},
          "execution_count": 14
        }
      ]
    },
    {
      "cell_type": "code",
      "source": [
        "# diag() ---> It will create an array in which we can out custom digonal values"
      ],
      "metadata": {
        "id": "q7hjFZLyz76o"
      },
      "execution_count": null,
      "outputs": []
    },
    {
      "cell_type": "code",
      "source": [
        "f = np.array([2,2,2,22,2,2,2])\n",
        "g = np.diag(f)\n",
        "g"
      ],
      "metadata": {
        "colab": {
          "base_uri": "https://localhost:8080/"
        },
        "id": "CN6droBv0FOQ",
        "outputId": "3f3308da-ec9f-4ce6-80f4-feec201604c8"
      },
      "execution_count": 16,
      "outputs": [
        {
          "output_type": "execute_result",
          "data": {
            "text/plain": [
              "array([[ 2,  0,  0,  0,  0,  0,  0],\n",
              "       [ 0,  2,  0,  0,  0,  0,  0],\n",
              "       [ 0,  0,  2,  0,  0,  0,  0],\n",
              "       [ 0,  0,  0, 22,  0,  0,  0],\n",
              "       [ 0,  0,  0,  0,  2,  0,  0],\n",
              "       [ 0,  0,  0,  0,  0,  2,  0],\n",
              "       [ 0,  0,  0,  0,  0,  0,  2]])"
            ]
          },
          "metadata": {},
          "execution_count": 16
        }
      ]
    },
    {
      "cell_type": "code",
      "source": [
        "h = np.array([2,34,54,22,13,89,2])\n",
        "i = np.diag(h)\n",
        "i"
      ],
      "metadata": {
        "colab": {
          "base_uri": "https://localhost:8080/"
        },
        "id": "tx1pHtxz0Spm",
        "outputId": "8d244d6a-51ef-4e4b-f46f-561e9a6a71b4"
      },
      "execution_count": 18,
      "outputs": [
        {
          "output_type": "execute_result",
          "data": {
            "text/plain": [
              "array([[ 2,  0,  0,  0,  0,  0,  0],\n",
              "       [ 0, 34,  0,  0,  0,  0,  0],\n",
              "       [ 0,  0, 54,  0,  0,  0,  0],\n",
              "       [ 0,  0,  0, 22,  0,  0,  0],\n",
              "       [ 0,  0,  0,  0, 13,  0,  0],\n",
              "       [ 0,  0,  0,  0,  0, 89,  0],\n",
              "       [ 0,  0,  0,  0,  0,  0,  2]])"
            ]
          },
          "metadata": {},
          "execution_count": 18
        }
      ]
    },
    {
      "cell_type": "code",
      "source": [
        "#(5.)  Random ---->\n",
        "#(a.) RAndiant()  ---> It eill generate random numbers in a given range.\n",
        "#syntax: np.random.randint(min_number , max_number , total_numbers)\n",
        "\n",
        "#(b.) Rand()  ---> it will generate random numbers from 0 to 1.\n",
        "#syntax : np.random.rand(tatal_numbers)  #0 to 1 range by default."
      ],
      "metadata": {
        "id": "Om2m8pYU0gl5"
      },
      "execution_count": null,
      "outputs": []
    },
    {
      "cell_type": "code",
      "source": [
        "a = np.random.randint(1,10,4)\n",
        "a"
      ],
      "metadata": {
        "colab": {
          "base_uri": "https://localhost:8080/"
        },
        "id": "9VPbNzoH1e_m",
        "outputId": "7d964cc6-274d-4b71-caaa-a0d70338b2db"
      },
      "execution_count": 19,
      "outputs": [
        {
          "output_type": "execute_result",
          "data": {
            "text/plain": [
              "array([9, 1, 8, 5])"
            ]
          },
          "metadata": {},
          "execution_count": 19
        }
      ]
    },
    {
      "cell_type": "code",
      "source": [
        "b = np.random.rand(5) #generate 0 to 1 range bydefault.\n",
        "b"
      ],
      "metadata": {
        "colab": {
          "base_uri": "https://localhost:8080/"
        },
        "id": "3fSkuyI_1kiz",
        "outputId": "cf51f831-23ce-46ae-8390-5e584c43cc41"
      },
      "execution_count": 21,
      "outputs": [
        {
          "output_type": "execute_result",
          "data": {
            "text/plain": [
              "array([0.3499993 , 0.67864135, 0.66331481, 0.25419187, 0.41758771])"
            ]
          },
          "metadata": {},
          "execution_count": 21
        }
      ]
    },
    {
      "cell_type": "code",
      "source": [],
      "metadata": {
        "id": "SQ_rnbog1wXc"
      },
      "execution_count": null,
      "outputs": []
    }
  ]
}